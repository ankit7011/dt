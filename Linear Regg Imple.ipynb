{
 "cells": [
  {
   "cell_type": "code",
   "execution_count": 134,
   "id": "14bf7981",
   "metadata": {},
   "outputs": [],
   "source": [
    "import numpy as np\n",
    "import pandas as pd\n",
    "import matplotlib.pyplot as plt"
   ]
  },
  {
   "cell_type": "code",
   "execution_count": 135,
   "id": "b476fa4c",
   "metadata": {},
   "outputs": [],
   "source": [
    "x=pd.read_excel('./HardworkPaysOff Dataset/X_train.xlsx')\n",
    "y=pd.read_excel('./HardworkPaysOff Dataset/y_train.xlsx')"
   ]
  },
  {
   "cell_type": "code",
   "execution_count": 136,
   "id": "7c847022",
   "metadata": {},
   "outputs": [],
   "source": [
    "x=x.values\n",
    "y=y.values"
   ]
  },
  {
   "cell_type": "code",
   "execution_count": 137,
   "id": "53daecbb",
   "metadata": {},
   "outputs": [
    {
     "name": "stdout",
     "output_type": "stream",
     "text": [
      "-0.03767357270269704 0.9921847276348041\n"
     ]
    }
   ],
   "source": [
    "u=x.mean()\n",
    "std=x.std()\n",
    "print(u,std)\n",
    "x=(x-u)/std"
   ]
  },
  {
   "cell_type": "code",
   "execution_count": 138,
   "id": "aaa5ed99",
   "metadata": {},
   "outputs": [
    {
     "data": {
      "image/png": "[encoded data removed]",
      "text/plain": [
       "<Figure size 576x396 with 1 Axes>"
      ]
     },
     "metadata": {},
     "output_type": "display_data"
    }
   ],
   "source": [
    "plt.style.use('seaborn')\n",
    "plt.scatter(x,y,color='Red')\n",
    "plt.show()"
   ]
  },
  {
   "cell_type": "code",
   "execution_count": 159,
   "id": "2b2ee455",
   "metadata": {},
   "outputs": [],
   "source": [
    "def hypothesis(x,theta):\n",
    "    y_=theta[0] + theta[1]*x\n",
    "    return y_\n",
    "\n",
    "def gradient(x,y,theta):\n",
    "    m=x.shape[0]\n",
    "    grad=np.zeros((2,))\n",
    "    for i in range(m):\n",
    "        x1=x[i]\n",
    "        y_=hypothesis(x1,theta)\n",
    "        y1=y[i]\n",
    "        grad[0]+=(y_-y1)\n",
    "        grad[1]+=(y_-y1)*x1\n",
    "    return grad/m\n",
    "\n",
    "def error(x,y,theta):\n",
    "    m=x.shape[0]\n",
    "    tot_error=0.0\n",
    "    for i in range(m):\n",
    "        y_=hypothesis(x[i],theta)        \n",
    "        tot_error+=(y_-y[i])**2\n",
    "    return tot_error/m\n",
    "        \n",
    "\n",
    "\n",
    "\n",
    "def gradientDescent(x,y,max_steps=100,lr=0.1):\n",
    "    theta=np.zeros((2,))\n",
    "    error_list=[]\n",
    "    for i in range(max_steps):\n",
    "        grad=gradient(x,y,theta)\n",
    "        e=error(x,y,theta)\n",
    "        error_list.append(e)\n",
    "        theta[0]=theta[0]-lr*grad[0]\n",
    "        theta[1]=theta[1]-lr*grad[1]        \n",
    "    return theta,error_list\n"
   ]
  },
  {
   "cell_type": "code",
   "execution_count": 160,
   "id": "c9e78fde",
   "metadata": {},
   "outputs": [],
   "source": [
    "theta,error_list=gradientDescent(x,y)"
   ]
  },
  {
   "cell_type": "code",
   "execution_count": 161,
   "id": "9f6ae906",
   "metadata": {},
   "outputs": [
    {
     "data": {
      "text/plain": [
       "array([ 0.68860084, 79.91432832])"
      ]
     },
     "execution_count": 161,
     "metadata": {},
     "output_type": "execute_result"
    }
   ],
   "source": [
    "theta"
   ]
  },
  {
   "cell_type": "code",
   "execution_count": 162,
   "id": "d318d1df",
   "metadata": {},
   "outputs": [
    {
     "data": {
      "text/plain": [
       "[array([6578.02599318]),\n",
       " array([5364.47445889]),\n",
       " array([4381.49771612]),\n",
       " array([3585.28655448]),\n",
       " array([2940.35551354]),\n",
       " array([2417.96137039]),\n",
       " array([1994.82211443]),\n",
       " array([1652.07931711]),\n",
       " array([1374.45765127]),\n",
       " array([1149.58410195]),\n",
       " array([967.43652699]),\n",
       " array([819.89699128]),\n",
       " array([700.38996736]),\n",
       " array([603.58927798]),\n",
       " array([525.18071958]),\n",
       " array([461.66978727]),\n",
       " array([410.22593211]),\n",
       " array([368.55640943]),\n",
       " array([334.80409605]),\n",
       " array([307.46472222]),\n",
       " array([285.31982941]),\n",
       " array([267.38246624]),\n",
       " array([252.85320207]),\n",
       " array([241.0844981]),\n",
       " array([231.55184788]),\n",
       " array([223.8304012]),\n",
       " array([217.57602939]),\n",
       " array([212.50998822]),\n",
       " array([208.40649488]),\n",
       " array([205.08266527]),\n",
       " array([202.39036328]),\n",
       " array([200.20959868]),\n",
       " array([198.44317934]),\n",
       " array([197.01237969]),\n",
       " array([195.85343196]),\n",
       " array([194.91468431]),\n",
       " array([194.15429871]),\n",
       " array([193.53838637]),\n",
       " array([193.03949738]),\n",
       " array([192.63539729]),\n",
       " array([192.30807622]),\n",
       " array([192.04294616]),\n",
       " array([191.8281908]),\n",
       " array([191.65423897]),\n",
       " array([191.51333798]),\n",
       " array([191.39920818]),\n",
       " array([191.30676304]),\n",
       " array([191.23188248]),\n",
       " array([191.17122923]),\n",
       " array([191.12210009]),\n",
       " array([191.08230549]),\n",
       " array([191.05007187]),\n",
       " array([191.02396263]),\n",
       " array([191.00281415]),\n",
       " array([190.98568388]),\n",
       " array([190.97180836]),\n",
       " array([190.96056919]),\n",
       " array([190.95146546]),\n",
       " array([190.94409144]),\n",
       " array([190.93811848]),\n",
       " array([190.93328039]),\n",
       " array([190.92936153]),\n",
       " array([190.92618726]),\n",
       " array([190.9236161]),\n",
       " array([190.92153345]),\n",
       " array([190.91984651]),\n",
       " array([190.91848009]),\n",
       " array([190.91737329]),\n",
       " array([190.91647678]),\n",
       " array([190.91575061]),\n",
       " array([190.91516241]),\n",
       " array([190.91468597]),\n",
       " array([190.91430005]),\n",
       " array([190.91398746]),\n",
       " array([190.91373426]),\n",
       " array([190.91352917]),\n",
       " array([190.91336304]),\n",
       " array([190.91322848]),\n",
       " array([190.91311949]),\n",
       " array([190.9130312]),\n",
       " array([190.91295969]),\n",
       " array([190.91290177]),\n",
       " array([190.91285485]),\n",
       " array([190.91281684]),\n",
       " array([190.91278606]),\n",
       " array([190.91276113]),\n",
       " array([190.91274093]),\n",
       " array([190.91272457]),\n",
       " array([190.91271132]),\n",
       " array([190.91270059]),\n",
       " array([190.91269189]),\n",
       " array([190.91268485]),\n",
       " array([190.91267914]),\n",
       " array([190.91267452]),\n",
       " array([190.91267078]),\n",
       " array([190.91266775]),\n",
       " array([190.91266529]),\n",
       " array([190.91266331]),\n",
       " array([190.91266169]),\n",
       " array([190.91266039])]"
      ]
     },
     "execution_count": 162,
     "metadata": {},
     "output_type": "execute_result"
    }
   ],
   "source": [
    "error_list"
   ]
  },
  {
   "cell_type": "code",
   "execution_count": 165,
   "id": "0c96d13d",
   "metadata": {},
   "outputs": [
    {
     "data": {
      "image/png": "[encoded data removed]",
      "text/plain": [
       "<Figure size 576x396 with 1 Axes>"
      ]
     },
     "metadata": {},
     "output_type": "display_data"
    }
   ],
   "source": [
    "plt.plot(error_list)\n",
    "\n",
    "plt.show()"
   ]
  },
  {
   "cell_type": "code",
   "execution_count": 166,
   "id": "a89f8581",
   "metadata": {},
   "outputs": [
    {
     "name": "stdout",
     "output_type": "stream",
     "text": [
      "[[-19.57894521]\n",
      " [-43.70199171]\n",
      " [ 86.48233141]\n",
      " ...\n",
      " [112.39244041]\n",
      " [-20.85606698]\n",
      " [138.70092454]]\n"
     ]
    }
   ],
   "source": [
    "y_=hypothesis(x,theta)\n",
    "print(y_)"
   ]
  },
  {
   "cell_type": "code",
   "execution_count": 173,
   "id": "c06fddf2",
   "metadata": {},
   "outputs": [
    {
     "data": {
      "image/png": "[encoded data removed]",
      "text/plain": [
       "<Figure size 576x396 with 1 Axes>"
      ]
     },
     "metadata": {},
     "output_type": "display_data"
    }
   ],
   "source": [
    "plt.scatter(x,y,color='green')\n",
    "plt.plot(x,y_,color='red')\n",
    "plt.show()"
   ]
  },
  {
   "cell_type": "code",
   "execution_count": null,
   "id": "13288565",
   "metadata": {},
   "outputs": [],
   "source": []
  }
 ],
 "metadata": {
  "kernelspec": {
   "display_name": "Python 3",
   "language": "python",
   "name": "python3"
  },
  "language_info": {
   "codemirror_mode": {
    "name": "ipython",
    "version": 3
   },
   "file_extension": ".py",
   "mimetype": "text/x-python",
   "name": "python",
   "nbconvert_exporter": "python",
   "pygments_lexer": "ipython3",
   "version": "3.8.8"
  }
 },
 "nbformat": 4,
 "nbformat_minor": 5
}
